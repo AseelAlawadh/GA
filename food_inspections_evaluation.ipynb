{
 "cells": [
  {
   "cell_type": "markdown",
   "metadata": {},
   "source": [
    "## Food Inspections Evaluation"
   ]
  },
  {
   "cell_type": "code",
   "execution_count": null,
   "metadata": {},
   "outputs": [],
   "source": []
  },
  {
   "cell_type": "markdown",
   "metadata": {},
   "source": [
    "# Problem Statment: "
   ]
  },
  {
   "cell_type": "code",
   "execution_count": 9,
   "metadata": {},
   "outputs": [],
   "source": [
    "import numpy as np\n",
    "import pandas as pd\n",
    "import matplotlib.pyplot as plt\n",
    "import seaborn as sns\n",
    "import plotly.graph_objs as go"
   ]
  },
  {
   "cell_type": "code",
   "execution_count": 235,
   "metadata": {},
   "outputs": [],
   "source": [
    "# ! conda install plotly"
   ]
  },
  {
   "cell_type": "markdown",
   "metadata": {},
   "source": [
    "## Executive Summary"
   ]
  },
  {
   "cell_type": "markdown",
   "metadata": {},
   "source": [
    "## Datasets Description:"
   ]
  },
  {
   "cell_type": "markdown",
   "metadata": {},
   "source": []
  },
  {
   "cell_type": "markdown",
   "metadata": {},
   "source": [
    "## Data Import : "
   ]
  },
  {
   "cell_type": "code",
   "execution_count": 10,
   "metadata": {},
   "outputs": [],
   "source": [
    "# Read in datasets from csv to pandas dataframes,\n",
    "#load only useful columns\n",
    "food_inspect_data = pd.read_csv('Food_Inspections.csv')"
   ]
  },
  {
   "cell_type": "code",
   "execution_count": 11,
   "metadata": {},
   "outputs": [],
   "source": [
    "# Quickly lowercase and camelcase all column names in a DataFrame\n",
    "# we need to rename columns to use it with SQL later\n",
    "food_inspect_data = food_inspect_data.rename(columns=lambda x: x.lower().replace(' ', '_').replace('#','').replace('-','_'))"
   ]
  },
  {
   "cell_type": "markdown",
   "metadata": {},
   "source": [
    "## Display Data:"
   ]
  },
  {
   "cell_type": "code",
   "execution_count": 12,
   "metadata": {
    "scrolled": true
   },
   "outputs": [
    {
     "data": {
      "text/html": [
       "<div>\n",
       "<style scoped>\n",
       "    .dataframe tbody tr th:only-of-type {\n",
       "        vertical-align: middle;\n",
       "    }\n",
       "\n",
       "    .dataframe tbody tr th {\n",
       "        vertical-align: top;\n",
       "    }\n",
       "\n",
       "    .dataframe thead th {\n",
       "        text-align: right;\n",
       "    }\n",
       "</style>\n",
       "<table border=\"1\" class=\"dataframe\">\n",
       "  <thead>\n",
       "    <tr style=\"text-align: right;\">\n",
       "      <th></th>\n",
       "      <th>inspection_id</th>\n",
       "      <th>dba_name</th>\n",
       "      <th>aka_name</th>\n",
       "      <th>license_</th>\n",
       "      <th>facility_type</th>\n",
       "      <th>risk</th>\n",
       "      <th>address</th>\n",
       "      <th>city</th>\n",
       "      <th>state</th>\n",
       "      <th>zip</th>\n",
       "      <th>...</th>\n",
       "      <th>results</th>\n",
       "      <th>violations</th>\n",
       "      <th>latitude</th>\n",
       "      <th>longitude</th>\n",
       "      <th>location</th>\n",
       "      <th>historical_wards_2003_2015</th>\n",
       "      <th>zip_codes</th>\n",
       "      <th>community_areas</th>\n",
       "      <th>census_tracts</th>\n",
       "      <th>wards</th>\n",
       "    </tr>\n",
       "  </thead>\n",
       "  <tbody>\n",
       "    <tr>\n",
       "      <th>0</th>\n",
       "      <td>2288224</td>\n",
       "      <td>LA V BAKERY, INC</td>\n",
       "      <td>LA V BAKERY, INC</td>\n",
       "      <td>2550054.0</td>\n",
       "      <td>Bakery</td>\n",
       "      <td>Risk 2 (Medium)</td>\n",
       "      <td>2338 S KEDZIE AVE</td>\n",
       "      <td>CHICAGO</td>\n",
       "      <td>IL</td>\n",
       "      <td>60623.0</td>\n",
       "      <td>...</td>\n",
       "      <td>Out of Business</td>\n",
       "      <td>NaN</td>\n",
       "      <td>41.848790</td>\n",
       "      <td>-87.705311</td>\n",
       "      <td>(41.84879049508066, -87.70531098155864)</td>\n",
       "      <td>36.0</td>\n",
       "      <td>21569.0</td>\n",
       "      <td>32.0</td>\n",
       "      <td>291.0</td>\n",
       "      <td>1.0</td>\n",
       "    </tr>\n",
       "    <tr>\n",
       "      <th>1</th>\n",
       "      <td>2288222</td>\n",
       "      <td>LA TROPICANA FRESH MARKET</td>\n",
       "      <td>LA TROPICANA FRESH MARKET</td>\n",
       "      <td>2663484.0</td>\n",
       "      <td>Grocery Store</td>\n",
       "      <td>Risk 3 (Low)</td>\n",
       "      <td>1005 N PULASKI RD</td>\n",
       "      <td>CHICAGO</td>\n",
       "      <td>IL</td>\n",
       "      <td>60651.0</td>\n",
       "      <td>...</td>\n",
       "      <td>Pass</td>\n",
       "      <td>NaN</td>\n",
       "      <td>41.899228</td>\n",
       "      <td>-87.726052</td>\n",
       "      <td>(41.89922779688617, -87.72605226905087)</td>\n",
       "      <td>41.0</td>\n",
       "      <td>4299.0</td>\n",
       "      <td>24.0</td>\n",
       "      <td>456.0</td>\n",
       "      <td>45.0</td>\n",
       "    </tr>\n",
       "    <tr>\n",
       "      <th>2</th>\n",
       "      <td>2286210</td>\n",
       "      <td>GOLDEN SPICE BAKERY</td>\n",
       "      <td>GOLDEN SPICE BAKERY</td>\n",
       "      <td>2663877.0</td>\n",
       "      <td>Bakery</td>\n",
       "      <td>Risk 2 (Medium)</td>\n",
       "      <td>2338 S KEDZIE AVE</td>\n",
       "      <td>CHICAGO</td>\n",
       "      <td>IL</td>\n",
       "      <td>60623.0</td>\n",
       "      <td>...</td>\n",
       "      <td>Pass w/ Conditions</td>\n",
       "      <td>3. MANAGEMENT, FOOD EMPLOYEE AND CONDITIONAL E...</td>\n",
       "      <td>41.848790</td>\n",
       "      <td>-87.705311</td>\n",
       "      <td>(41.84879049508066, -87.70531098155864)</td>\n",
       "      <td>36.0</td>\n",
       "      <td>21569.0</td>\n",
       "      <td>32.0</td>\n",
       "      <td>291.0</td>\n",
       "      <td>1.0</td>\n",
       "    </tr>\n",
       "    <tr>\n",
       "      <th>3</th>\n",
       "      <td>2288221</td>\n",
       "      <td>PALETERIA AYUTLA</td>\n",
       "      <td>PALETERIA AYUTLA</td>\n",
       "      <td>2321232.0</td>\n",
       "      <td>Restaurant</td>\n",
       "      <td>Risk 2 (Medium)</td>\n",
       "      <td>2404 W 46TH PL</td>\n",
       "      <td>CHICAGO</td>\n",
       "      <td>IL</td>\n",
       "      <td>60632.0</td>\n",
       "      <td>...</td>\n",
       "      <td>Pass w/ Conditions</td>\n",
       "      <td>3. MANAGEMENT, FOOD EMPLOYEE AND CONDITIONAL E...</td>\n",
       "      <td>41.809457</td>\n",
       "      <td>-87.684746</td>\n",
       "      <td>(41.80945691736228, -87.68474598934672)</td>\n",
       "      <td>29.0</td>\n",
       "      <td>14924.0</td>\n",
       "      <td>55.0</td>\n",
       "      <td>687.0</td>\n",
       "      <td>3.0</td>\n",
       "    </tr>\n",
       "    <tr>\n",
       "      <th>4</th>\n",
       "      <td>2288249</td>\n",
       "      <td>SPILT MILK</td>\n",
       "      <td>SPILT MILK</td>\n",
       "      <td>2663633.0</td>\n",
       "      <td>Bakery</td>\n",
       "      <td>Risk 2 (Medium)</td>\n",
       "      <td>1844 S BLUE ISLAND AVE</td>\n",
       "      <td>CHICAGO</td>\n",
       "      <td>IL</td>\n",
       "      <td>60608.0</td>\n",
       "      <td>...</td>\n",
       "      <td>Pass w/ Conditions</td>\n",
       "      <td>3. MANAGEMENT, FOOD EMPLOYEE AND CONDITIONAL E...</td>\n",
       "      <td>41.856731</td>\n",
       "      <td>-87.662300</td>\n",
       "      <td>(41.85673053879921, -87.66229983625918)</td>\n",
       "      <td>8.0</td>\n",
       "      <td>14920.0</td>\n",
       "      <td>33.0</td>\n",
       "      <td>365.0</td>\n",
       "      <td>26.0</td>\n",
       "    </tr>\n",
       "  </tbody>\n",
       "</table>\n",
       "<p>5 rows × 22 columns</p>\n",
       "</div>"
      ],
      "text/plain": [
       "   inspection_id                   dba_name                   aka_name  \\\n",
       "0        2288224           LA V BAKERY, INC           LA V BAKERY, INC   \n",
       "1        2288222  LA TROPICANA FRESH MARKET  LA TROPICANA FRESH MARKET   \n",
       "2        2286210        GOLDEN SPICE BAKERY        GOLDEN SPICE BAKERY   \n",
       "3        2288221           PALETERIA AYUTLA           PALETERIA AYUTLA   \n",
       "4        2288249                 SPILT MILK                 SPILT MILK   \n",
       "\n",
       "    license_  facility_type             risk                  address  \\\n",
       "0  2550054.0         Bakery  Risk 2 (Medium)       2338 S KEDZIE AVE    \n",
       "1  2663484.0  Grocery Store     Risk 3 (Low)       1005 N PULASKI RD    \n",
       "2  2663877.0         Bakery  Risk 2 (Medium)       2338 S KEDZIE AVE    \n",
       "3  2321232.0     Restaurant  Risk 2 (Medium)          2404 W 46TH PL    \n",
       "4  2663633.0         Bakery  Risk 2 (Medium)  1844 S BLUE ISLAND AVE    \n",
       "\n",
       "      city state      zip  ...             results  \\\n",
       "0  CHICAGO    IL  60623.0  ...     Out of Business   \n",
       "1  CHICAGO    IL  60651.0  ...                Pass   \n",
       "2  CHICAGO    IL  60623.0  ...  Pass w/ Conditions   \n",
       "3  CHICAGO    IL  60632.0  ...  Pass w/ Conditions   \n",
       "4  CHICAGO    IL  60608.0  ...  Pass w/ Conditions   \n",
       "\n",
       "                                          violations   latitude  longitude  \\\n",
       "0                                                NaN  41.848790 -87.705311   \n",
       "1                                                NaN  41.899228 -87.726052   \n",
       "2  3. MANAGEMENT, FOOD EMPLOYEE AND CONDITIONAL E...  41.848790 -87.705311   \n",
       "3  3. MANAGEMENT, FOOD EMPLOYEE AND CONDITIONAL E...  41.809457 -87.684746   \n",
       "4  3. MANAGEMENT, FOOD EMPLOYEE AND CONDITIONAL E...  41.856731 -87.662300   \n",
       "\n",
       "                                  location  historical_wards_2003_2015  \\\n",
       "0  (41.84879049508066, -87.70531098155864)                        36.0   \n",
       "1  (41.89922779688617, -87.72605226905087)                        41.0   \n",
       "2  (41.84879049508066, -87.70531098155864)                        36.0   \n",
       "3  (41.80945691736228, -87.68474598934672)                        29.0   \n",
       "4  (41.85673053879921, -87.66229983625918)                         8.0   \n",
       "\n",
       "  zip_codes  community_areas  census_tracts  wards  \n",
       "0   21569.0             32.0          291.0    1.0  \n",
       "1    4299.0             24.0          456.0   45.0  \n",
       "2   21569.0             32.0          291.0    1.0  \n",
       "3   14924.0             55.0          687.0    3.0  \n",
       "4   14920.0             33.0          365.0   26.0  \n",
       "\n",
       "[5 rows x 22 columns]"
      ]
     },
     "execution_count": 12,
     "metadata": {},
     "output_type": "execute_result"
    }
   ],
   "source": [
    "food_inspect_data.head()"
   ]
  },
  {
   "cell_type": "code",
   "execution_count": 13,
   "metadata": {},
   "outputs": [],
   "source": [
    "food_inspect_data.rename(columns={\"license_\": \"license\"}, inplace=True)"
   ]
  },
  {
   "cell_type": "markdown",
   "metadata": {},
   "source": [
    "Briefly describe the data: "
   ]
  },
  {
   "cell_type": "markdown",
   "metadata": {},
   "source": [
    "# B"
   ]
  },
  {
   "cell_type": "markdown",
   "metadata": {},
   "source": [
    "## Investigate the Dataset "
   ]
  },
  {
   "cell_type": "code",
   "execution_count": 14,
   "metadata": {},
   "outputs": [
    {
     "data": {
      "text/plain": [
       "(186354, 22)"
      ]
     },
     "execution_count": 14,
     "metadata": {},
     "output_type": "execute_result"
    }
   ],
   "source": [
    "#check the shape of our dataset\n",
    "food_inspect_data.shape"
   ]
  },
  {
   "cell_type": "code",
   "execution_count": 15,
   "metadata": {},
   "outputs": [
    {
     "name": "stdout",
     "output_type": "stream",
     "text": [
      "<class 'pandas.core.frame.DataFrame'>\n",
      "RangeIndex: 186354 entries, 0 to 186353\n",
      "Data columns (total 22 columns):\n",
      "inspection_id                 186354 non-null int64\n",
      "dba_name                      186354 non-null object\n",
      "aka_name                      183903 non-null object\n",
      "license                       186338 non-null float64\n",
      "facility_type                 181603 non-null object\n",
      "risk                          186279 non-null object\n",
      "address                       186354 non-null object\n",
      "city                          186193 non-null object\n",
      "state                         186320 non-null object\n",
      "zip                           186275 non-null float64\n",
      "inspection_date               186354 non-null object\n",
      "inspection_type               186353 non-null object\n",
      "results                       186354 non-null object\n",
      "violations                    136747 non-null object\n",
      "latitude                      185690 non-null float64\n",
      "longitude                     185690 non-null float64\n",
      "location                      185690 non-null object\n",
      "historical_wards_2003_2015    183054 non-null float64\n",
      "zip_codes                     185690 non-null float64\n",
      "community_areas               183054 non-null float64\n",
      "census_tracts                 185661 non-null float64\n",
      "wards                         183054 non-null float64\n",
      "dtypes: float64(9), int64(1), object(12)\n",
      "memory usage: 31.3+ MB\n"
     ]
    }
   ],
   "source": [
    "# information about dataset\n",
    "food_inspect_data.info()"
   ]
  },
  {
   "cell_type": "code",
   "execution_count": 16,
   "metadata": {},
   "outputs": [
    {
     "data": {
      "text/plain": [
       "inspection_id                     0\n",
       "dba_name                          0\n",
       "aka_name                       2451\n",
       "license                          16\n",
       "facility_type                  4751\n",
       "risk                             75\n",
       "address                           0\n",
       "city                            161\n",
       "state                            34\n",
       "zip                              79\n",
       "inspection_date                   0\n",
       "inspection_type                   1\n",
       "results                           0\n",
       "violations                    49607\n",
       "latitude                        664\n",
       "longitude                       664\n",
       "location                        664\n",
       "historical_wards_2003_2015     3300\n",
       "zip_codes                       664\n",
       "community_areas                3300\n",
       "census_tracts                   693\n",
       "wards                          3300\n",
       "dtype: int64"
      ]
     },
     "execution_count": 16,
     "metadata": {},
     "output_type": "execute_result"
    }
   ],
   "source": [
    "# total of missing values in each columns\n",
    "# Verifying missing data\n",
    "food_inspect_data.isnull().sum()"
   ]
  },
  {
   "cell_type": "code",
   "execution_count": 17,
   "metadata": {},
   "outputs": [
    {
     "data": {
      "text/html": [
       "<div>\n",
       "<style scoped>\n",
       "    .dataframe tbody tr th:only-of-type {\n",
       "        vertical-align: middle;\n",
       "    }\n",
       "\n",
       "    .dataframe tbody tr th {\n",
       "        vertical-align: top;\n",
       "    }\n",
       "\n",
       "    .dataframe thead th {\n",
       "        text-align: right;\n",
       "    }\n",
       "</style>\n",
       "<table border=\"1\" class=\"dataframe\">\n",
       "  <thead>\n",
       "    <tr style=\"text-align: right;\">\n",
       "      <th></th>\n",
       "      <th>inspection_id</th>\n",
       "      <th>license</th>\n",
       "      <th>zip</th>\n",
       "      <th>latitude</th>\n",
       "      <th>longitude</th>\n",
       "      <th>historical_wards_2003_2015</th>\n",
       "      <th>zip_codes</th>\n",
       "      <th>community_areas</th>\n",
       "      <th>census_tracts</th>\n",
       "      <th>wards</th>\n",
       "    </tr>\n",
       "  </thead>\n",
       "  <tbody>\n",
       "    <tr>\n",
       "      <th>count</th>\n",
       "      <td>1.863540e+05</td>\n",
       "      <td>1.863380e+05</td>\n",
       "      <td>186275.000000</td>\n",
       "      <td>185690.000000</td>\n",
       "      <td>185690.000000</td>\n",
       "      <td>183054.000000</td>\n",
       "      <td>185690.000000</td>\n",
       "      <td>183054.000000</td>\n",
       "      <td>185661.000000</td>\n",
       "      <td>183054.000000</td>\n",
       "    </tr>\n",
       "    <tr>\n",
       "      <th>mean</th>\n",
       "      <td>1.401282e+06</td>\n",
       "      <td>1.578144e+06</td>\n",
       "      <td>60629.055633</td>\n",
       "      <td>41.880871</td>\n",
       "      <td>-87.676531</td>\n",
       "      <td>27.563615</td>\n",
       "      <td>17949.851134</td>\n",
       "      <td>37.457089</td>\n",
       "      <td>374.573540</td>\n",
       "      <td>26.924967</td>\n",
       "    </tr>\n",
       "    <tr>\n",
       "      <th>std</th>\n",
       "      <td>6.189594e+05</td>\n",
       "      <td>8.934119e+05</td>\n",
       "      <td>22.749563</td>\n",
       "      <td>0.080897</td>\n",
       "      <td>0.058807</td>\n",
       "      <td>14.536148</td>\n",
       "      <td>6301.889133</td>\n",
       "      <td>19.163725</td>\n",
       "      <td>244.326867</td>\n",
       "      <td>13.729340</td>\n",
       "    </tr>\n",
       "    <tr>\n",
       "      <th>min</th>\n",
       "      <td>4.424700e+04</td>\n",
       "      <td>0.000000e+00</td>\n",
       "      <td>60007.000000</td>\n",
       "      <td>41.644670</td>\n",
       "      <td>-87.914428</td>\n",
       "      <td>1.000000</td>\n",
       "      <td>4299.000000</td>\n",
       "      <td>1.000000</td>\n",
       "      <td>1.000000</td>\n",
       "      <td>1.000000</td>\n",
       "    </tr>\n",
       "    <tr>\n",
       "      <th>25%</th>\n",
       "      <td>1.115189e+06</td>\n",
       "      <td>1.194063e+06</td>\n",
       "      <td>60614.000000</td>\n",
       "      <td>41.833619</td>\n",
       "      <td>-87.707534</td>\n",
       "      <td>16.000000</td>\n",
       "      <td>14917.000000</td>\n",
       "      <td>24.000000</td>\n",
       "      <td>149.000000</td>\n",
       "      <td>16.000000</td>\n",
       "    </tr>\n",
       "    <tr>\n",
       "      <th>50%</th>\n",
       "      <td>1.464266e+06</td>\n",
       "      <td>1.964515e+06</td>\n",
       "      <td>60625.000000</td>\n",
       "      <td>41.891689</td>\n",
       "      <td>-87.666419</td>\n",
       "      <td>26.000000</td>\n",
       "      <td>21538.000000</td>\n",
       "      <td>36.000000</td>\n",
       "      <td>358.000000</td>\n",
       "      <td>27.000000</td>\n",
       "    </tr>\n",
       "    <tr>\n",
       "      <th>75%</th>\n",
       "      <td>1.970564e+06</td>\n",
       "      <td>2.216068e+06</td>\n",
       "      <td>60643.000000</td>\n",
       "      <td>41.939745</td>\n",
       "      <td>-87.634844</td>\n",
       "      <td>41.000000</td>\n",
       "      <td>22212.000000</td>\n",
       "      <td>55.000000</td>\n",
       "      <td>598.000000</td>\n",
       "      <td>37.000000</td>\n",
       "    </tr>\n",
       "    <tr>\n",
       "      <th>max</th>\n",
       "      <td>2.288249e+06</td>\n",
       "      <td>9.999999e+06</td>\n",
       "      <td>60827.000000</td>\n",
       "      <td>42.021064</td>\n",
       "      <td>-87.525094</td>\n",
       "      <td>53.000000</td>\n",
       "      <td>26633.000000</td>\n",
       "      <td>77.000000</td>\n",
       "      <td>801.000000</td>\n",
       "      <td>50.000000</td>\n",
       "    </tr>\n",
       "  </tbody>\n",
       "</table>\n",
       "</div>"
      ],
      "text/plain": [
       "       inspection_id       license            zip       latitude  \\\n",
       "count   1.863540e+05  1.863380e+05  186275.000000  185690.000000   \n",
       "mean    1.401282e+06  1.578144e+06   60629.055633      41.880871   \n",
       "std     6.189594e+05  8.934119e+05      22.749563       0.080897   \n",
       "min     4.424700e+04  0.000000e+00   60007.000000      41.644670   \n",
       "25%     1.115189e+06  1.194063e+06   60614.000000      41.833619   \n",
       "50%     1.464266e+06  1.964515e+06   60625.000000      41.891689   \n",
       "75%     1.970564e+06  2.216068e+06   60643.000000      41.939745   \n",
       "max     2.288249e+06  9.999999e+06   60827.000000      42.021064   \n",
       "\n",
       "           longitude  historical_wards_2003_2015      zip_codes  \\\n",
       "count  185690.000000               183054.000000  185690.000000   \n",
       "mean      -87.676531                   27.563615   17949.851134   \n",
       "std         0.058807                   14.536148    6301.889133   \n",
       "min       -87.914428                    1.000000    4299.000000   \n",
       "25%       -87.707534                   16.000000   14917.000000   \n",
       "50%       -87.666419                   26.000000   21538.000000   \n",
       "75%       -87.634844                   41.000000   22212.000000   \n",
       "max       -87.525094                   53.000000   26633.000000   \n",
       "\n",
       "       community_areas  census_tracts          wards  \n",
       "count    183054.000000  185661.000000  183054.000000  \n",
       "mean         37.457089     374.573540      26.924967  \n",
       "std          19.163725     244.326867      13.729340  \n",
       "min           1.000000       1.000000       1.000000  \n",
       "25%          24.000000     149.000000      16.000000  \n",
       "50%          36.000000     358.000000      27.000000  \n",
       "75%          55.000000     598.000000      37.000000  \n",
       "max          77.000000     801.000000      50.000000  "
      ]
     },
     "execution_count": 17,
     "metadata": {},
     "output_type": "execute_result"
    }
   ],
   "source": [
    "food_inspect_data.describe()"
   ]
  },
  {
   "cell_type": "code",
   "execution_count": 18,
   "metadata": {},
   "outputs": [
    {
     "data": {
      "text/plain": [
       "Restaurant                                    123783\n",
       "Grocery Store                                  23988\n",
       "School                                         11860\n",
       "Children's Services Facility                    2725\n",
       "Bakery                                          2707\n",
       "Daycare (2 - 6 Years)                           2637\n",
       "Daycare Above and Under 2 Years                 2176\n",
       "Long Term Care                                  1244\n",
       "Catering                                        1105\n",
       "Mobile Food Dispenser                            843\n",
       "Liquor                                           830\n",
       "Daycare Combo 1586                               780\n",
       "Mobile Food Preparer                             551\n",
       "Golden Diner                                     538\n",
       "Wholesale                                        530\n",
       "Hospital                                         501\n",
       "TAVERN                                           252\n",
       "Daycare (Under 2 Years)                          229\n",
       "Special Event                                    205\n",
       "Shared Kitchen User (Long Term)                  192\n",
       "BANQUET HALL                                     141\n",
       "GAS STATION                                      114\n",
       "Mobile Prepared Food Vendor                      108\n",
       "KIOSK                                            105\n",
       "Shared Kitchen                                   102\n",
       "Shelter                                           94\n",
       "CHARTER SCHOOL                                    69\n",
       "LIVE POULTRY                                      56\n",
       "Navy Pier Kiosk                                   54\n",
       "BANQUET                                           53\n",
       "                                               ...  \n",
       "UNLICENSED FACILITY                                1\n",
       "SERVICE BAR/THEATRE                                1\n",
       "ART GALLERY                                        1\n",
       "SHARED KITCHEN USER (LONG TREM)                    1\n",
       "PRODUCE VENDOR                                     1\n",
       "Meat Market                                        1\n",
       "SERVICE GAS STATION                                1\n",
       "SPA                                                1\n",
       "TAVERN/1006                                        1\n",
       "MOBILE FROZEN DESSERTS DISPENSER-NON-MOTOR         1\n",
       "GIFT/CARD SHOP WITH CANDY                          1\n",
       "BOOK STORE                                         1\n",
       "COMMIASARY                                         1\n",
       "Day Care Combo (1586)                              1\n",
       "CULINARY CLASS ROOMS                               1\n",
       "NON-FOR PROFIT BASEMENT KIT                        1\n",
       "FOOD PANTRY                                        1\n",
       "Internet Cafe                                      1\n",
       "Food Vending Machines                              1\n",
       "CONVENIENCE/GAS STATION                            1\n",
       "religious                                          1\n",
       "HERBALIFE STORE                                    1\n",
       "PEDDLER                                            1\n",
       "COMMISARY RESTAURANT                               1\n",
       "AFTER SCHOOL CARE                                  1\n",
       "NEWSSTAND                                          1\n",
       "HEALTH CENTER/NUTRITION CLASSES                    1\n",
       "GROCERY & RESTAURANT                               1\n",
       "Gas station                                        1\n",
       "ALTERNATIVE SCHOOL                                 1\n",
       "Name: facility_type, Length: 474, dtype: int64"
      ]
     },
     "execution_count": 18,
     "metadata": {},
     "output_type": "execute_result"
    }
   ],
   "source": [
    "food_inspect_data.facility_type.value_counts()"
   ]
  },
  {
   "cell_type": "markdown",
   "metadata": {},
   "source": [
    "# Preprocessing and Data Structure"
   ]
  },
  {
   "cell_type": "markdown",
   "metadata": {},
   "source": [
    "##### Take just we need from dataset :"
   ]
  },
  {
   "cell_type": "code",
   "execution_count": 19,
   "metadata": {},
   "outputs": [],
   "source": [
    "# Extracting facility_type Restaurant\n",
    "# Only consider restaurants\n",
    "food_inspect_data_restaurant = food_inspect_data[food_inspect_data['facility_type'] =='Restaurant']"
   ]
  },
  {
   "cell_type": "code",
   "execution_count": 20,
   "metadata": {
    "scrolled": true
   },
   "outputs": [
    {
     "data": {
      "text/plain": [
       "(123783, 22)"
      ]
     },
     "execution_count": 20,
     "metadata": {},
     "output_type": "execute_result"
    }
   ],
   "source": [
    "food_inspect_data_restaurant.shape"
   ]
  },
  {
   "cell_type": "code",
   "execution_count": 21,
   "metadata": {},
   "outputs": [
    {
     "data": {
      "text/plain": [
       "123783"
      ]
     },
     "execution_count": 21,
     "metadata": {},
     "output_type": "execute_result"
    }
   ],
   "source": [
    "food_inspect_data_restaurant.facility_type.count()"
   ]
  },
  {
   "cell_type": "code",
   "execution_count": 22,
   "metadata": {
    "scrolled": true
   },
   "outputs": [
    {
     "data": {
      "text/html": [
       "<div>\n",
       "<style scoped>\n",
       "    .dataframe tbody tr th:only-of-type {\n",
       "        vertical-align: middle;\n",
       "    }\n",
       "\n",
       "    .dataframe tbody tr th {\n",
       "        vertical-align: top;\n",
       "    }\n",
       "\n",
       "    .dataframe thead th {\n",
       "        text-align: right;\n",
       "    }\n",
       "</style>\n",
       "<table border=\"1\" class=\"dataframe\">\n",
       "  <thead>\n",
       "    <tr style=\"text-align: right;\">\n",
       "      <th></th>\n",
       "      <th>inspection_id</th>\n",
       "      <th>dba_name</th>\n",
       "      <th>aka_name</th>\n",
       "      <th>license</th>\n",
       "      <th>facility_type</th>\n",
       "      <th>risk</th>\n",
       "      <th>address</th>\n",
       "      <th>city</th>\n",
       "      <th>state</th>\n",
       "      <th>zip</th>\n",
       "      <th>...</th>\n",
       "      <th>results</th>\n",
       "      <th>violations</th>\n",
       "      <th>latitude</th>\n",
       "      <th>longitude</th>\n",
       "      <th>location</th>\n",
       "      <th>historical_wards_2003_2015</th>\n",
       "      <th>zip_codes</th>\n",
       "      <th>community_areas</th>\n",
       "      <th>census_tracts</th>\n",
       "      <th>wards</th>\n",
       "    </tr>\n",
       "  </thead>\n",
       "  <tbody>\n",
       "    <tr>\n",
       "      <th>3</th>\n",
       "      <td>2288221</td>\n",
       "      <td>PALETERIA AYUTLA</td>\n",
       "      <td>PALETERIA AYUTLA</td>\n",
       "      <td>2321232.0</td>\n",
       "      <td>Restaurant</td>\n",
       "      <td>Risk 2 (Medium)</td>\n",
       "      <td>2404 W 46TH PL</td>\n",
       "      <td>CHICAGO</td>\n",
       "      <td>IL</td>\n",
       "      <td>60632.0</td>\n",
       "      <td>...</td>\n",
       "      <td>Pass w/ Conditions</td>\n",
       "      <td>3. MANAGEMENT, FOOD EMPLOYEE AND CONDITIONAL E...</td>\n",
       "      <td>41.809457</td>\n",
       "      <td>-87.684746</td>\n",
       "      <td>(41.80945691736228, -87.68474598934672)</td>\n",
       "      <td>29.0</td>\n",
       "      <td>14924.0</td>\n",
       "      <td>55.0</td>\n",
       "      <td>687.0</td>\n",
       "      <td>3.0</td>\n",
       "    </tr>\n",
       "    <tr>\n",
       "      <th>5</th>\n",
       "      <td>2288211</td>\n",
       "      <td>SUBWAY</td>\n",
       "      <td>SUBWAY</td>\n",
       "      <td>1495274.0</td>\n",
       "      <td>Restaurant</td>\n",
       "      <td>Risk 1 (High)</td>\n",
       "      <td>3167 N LINCOLN AVE</td>\n",
       "      <td>CHICAGO</td>\n",
       "      <td>IL</td>\n",
       "      <td>60657.0</td>\n",
       "      <td>...</td>\n",
       "      <td>Pass w/ Conditions</td>\n",
       "      <td>3. MANAGEMENT, FOOD EMPLOYEE AND CONDITIONAL E...</td>\n",
       "      <td>41.939425</td>\n",
       "      <td>-87.668111</td>\n",
       "      <td>(41.93942462169401, -87.66811073298523)</td>\n",
       "      <td>16.0</td>\n",
       "      <td>4449.0</td>\n",
       "      <td>57.0</td>\n",
       "      <td>712.0</td>\n",
       "      <td>40.0</td>\n",
       "    </tr>\n",
       "    <tr>\n",
       "      <th>7</th>\n",
       "      <td>2288229</td>\n",
       "      <td>SHINYA RAMEN HOUSE</td>\n",
       "      <td>SHINYA RAMEN HOUSE</td>\n",
       "      <td>2578639.0</td>\n",
       "      <td>Restaurant</td>\n",
       "      <td>Risk 1 (High)</td>\n",
       "      <td>3240 S HALSTED ST</td>\n",
       "      <td>CHICAGO</td>\n",
       "      <td>IL</td>\n",
       "      <td>60608.0</td>\n",
       "      <td>...</td>\n",
       "      <td>Pass w/ Conditions</td>\n",
       "      <td>5. PROCEDURES FOR RESPONDING TO VOMITING AND D...</td>\n",
       "      <td>41.835224</td>\n",
       "      <td>-87.646356</td>\n",
       "      <td>(41.83522370724441, -87.64635603210917)</td>\n",
       "      <td>26.0</td>\n",
       "      <td>14920.0</td>\n",
       "      <td>58.0</td>\n",
       "      <td>676.0</td>\n",
       "      <td>48.0</td>\n",
       "    </tr>\n",
       "    <tr>\n",
       "      <th>10</th>\n",
       "      <td>2286158</td>\n",
       "      <td>IVY HOTEL</td>\n",
       "      <td>IVY HOTEL</td>\n",
       "      <td>2653277.0</td>\n",
       "      <td>Restaurant</td>\n",
       "      <td>Risk 1 (High)</td>\n",
       "      <td>233 E ONTARIO ST</td>\n",
       "      <td>CHICAGO</td>\n",
       "      <td>IL</td>\n",
       "      <td>60611.0</td>\n",
       "      <td>...</td>\n",
       "      <td>Not Ready</td>\n",
       "      <td>NaN</td>\n",
       "      <td>41.893265</td>\n",
       "      <td>-87.621812</td>\n",
       "      <td>(41.8932651489868, -87.62181212015325)</td>\n",
       "      <td>22.0</td>\n",
       "      <td>21182.0</td>\n",
       "      <td>37.0</td>\n",
       "      <td>159.0</td>\n",
       "      <td>36.0</td>\n",
       "    </tr>\n",
       "    <tr>\n",
       "      <th>11</th>\n",
       "      <td>2286182</td>\n",
       "      <td>IVY HOTEL</td>\n",
       "      <td>IVY HOTEL</td>\n",
       "      <td>2653273.0</td>\n",
       "      <td>Restaurant</td>\n",
       "      <td>Risk 1 (High)</td>\n",
       "      <td>233 E ONTARIO ST</td>\n",
       "      <td>CHICAGO</td>\n",
       "      <td>IL</td>\n",
       "      <td>60611.0</td>\n",
       "      <td>...</td>\n",
       "      <td>Pass w/ Conditions</td>\n",
       "      <td>10. ADEQUATE HANDWASHING SINKS PROPERLY SUPPLI...</td>\n",
       "      <td>41.893265</td>\n",
       "      <td>-87.621812</td>\n",
       "      <td>(41.8932651489868, -87.62181212015325)</td>\n",
       "      <td>22.0</td>\n",
       "      <td>21182.0</td>\n",
       "      <td>37.0</td>\n",
       "      <td>159.0</td>\n",
       "      <td>36.0</td>\n",
       "    </tr>\n",
       "  </tbody>\n",
       "</table>\n",
       "<p>5 rows × 22 columns</p>\n",
       "</div>"
      ],
      "text/plain": [
       "    inspection_id            dba_name            aka_name    license  \\\n",
       "3         2288221    PALETERIA AYUTLA    PALETERIA AYUTLA  2321232.0   \n",
       "5         2288211              SUBWAY              SUBWAY  1495274.0   \n",
       "7         2288229  SHINYA RAMEN HOUSE  SHINYA RAMEN HOUSE  2578639.0   \n",
       "10        2286158           IVY HOTEL           IVY HOTEL  2653277.0   \n",
       "11        2286182           IVY HOTEL           IVY HOTEL  2653273.0   \n",
       "\n",
       "   facility_type             risk              address     city state  \\\n",
       "3     Restaurant  Risk 2 (Medium)      2404 W 46TH PL   CHICAGO    IL   \n",
       "5     Restaurant    Risk 1 (High)  3167 N LINCOLN AVE   CHICAGO    IL   \n",
       "7     Restaurant    Risk 1 (High)   3240 S HALSTED ST   CHICAGO    IL   \n",
       "10    Restaurant    Risk 1 (High)    233 E ONTARIO ST   CHICAGO    IL   \n",
       "11    Restaurant    Risk 1 (High)    233 E ONTARIO ST   CHICAGO    IL   \n",
       "\n",
       "        zip  ...             results  \\\n",
       "3   60632.0  ...  Pass w/ Conditions   \n",
       "5   60657.0  ...  Pass w/ Conditions   \n",
       "7   60608.0  ...  Pass w/ Conditions   \n",
       "10  60611.0  ...           Not Ready   \n",
       "11  60611.0  ...  Pass w/ Conditions   \n",
       "\n",
       "                                           violations   latitude  longitude  \\\n",
       "3   3. MANAGEMENT, FOOD EMPLOYEE AND CONDITIONAL E...  41.809457 -87.684746   \n",
       "5   3. MANAGEMENT, FOOD EMPLOYEE AND CONDITIONAL E...  41.939425 -87.668111   \n",
       "7   5. PROCEDURES FOR RESPONDING TO VOMITING AND D...  41.835224 -87.646356   \n",
       "10                                                NaN  41.893265 -87.621812   \n",
       "11  10. ADEQUATE HANDWASHING SINKS PROPERLY SUPPLI...  41.893265 -87.621812   \n",
       "\n",
       "                                   location  historical_wards_2003_2015  \\\n",
       "3   (41.80945691736228, -87.68474598934672)                        29.0   \n",
       "5   (41.93942462169401, -87.66811073298523)                        16.0   \n",
       "7   (41.83522370724441, -87.64635603210917)                        26.0   \n",
       "10   (41.8932651489868, -87.62181212015325)                        22.0   \n",
       "11   (41.8932651489868, -87.62181212015325)                        22.0   \n",
       "\n",
       "   zip_codes  community_areas  census_tracts  wards  \n",
       "3    14924.0             55.0          687.0    3.0  \n",
       "5     4449.0             57.0          712.0   40.0  \n",
       "7    14920.0             58.0          676.0   48.0  \n",
       "10   21182.0             37.0          159.0   36.0  \n",
       "11   21182.0             37.0          159.0   36.0  \n",
       "\n",
       "[5 rows x 22 columns]"
      ]
     },
     "execution_count": 22,
     "metadata": {},
     "output_type": "execute_result"
    }
   ],
   "source": [
    "food_inspect_data_restaurant.head()"
   ]
  },
  {
   "cell_type": "code",
   "execution_count": 23,
   "metadata": {},
   "outputs": [
    {
     "name": "stderr",
     "output_type": "stream",
     "text": [
      "/Users/aseel/anaconda3/lib/python3.6/site-packages/ipykernel_launcher.py:2: UserWarning:\n",
      "\n",
      "Boolean Series key will be reindexed to match DataFrame index.\n",
      "\n"
     ]
    }
   ],
   "source": [
    "# Extracting inspection_type Canvass\n",
    "# Only consider canvass inspections (not complaints or re-inspections)\n",
    "food_inspect_data_restaurant = food_inspect_data_restaurant[food_inspect_data['inspection_type'] =='Canvass']"
   ]
  },
  {
   "cell_type": "code",
   "execution_count": 28,
   "metadata": {},
   "outputs": [],
   "source": [
    "# Deleting unnecessary columns Because we know we're working on a restaurant in Chicago \n",
    "food_inspect_data_restaurant = food_inspect_data_restaurant.drop(['facility_type', 'city', 'state','aka_name','inspection_type'], axis=1)"
   ]
  },
  {
   "cell_type": "code",
   "execution_count": null,
   "metadata": {},
   "outputs": [],
   "source": []
  },
  {
   "cell_type": "code",
   "execution_count": 30,
   "metadata": {},
   "outputs": [
    {
     "data": {
      "text/plain": [
       "inspection_id                     0\n",
       "dba_name                          0\n",
       "license                           0\n",
       "risk                              0\n",
       "address                           0\n",
       "zip                              17\n",
       "inspection_date                   0\n",
       "results                           0\n",
       "violations                    13512\n",
       "latitude                         71\n",
       "longitude                        71\n",
       "location                         71\n",
       "historical_wards_2003_2015     1661\n",
       "zip_codes                        71\n",
       "community_areas                1661\n",
       "census_tracts                    86\n",
       "wards                          1661\n",
       "dtype: int64"
      ]
     },
     "execution_count": 30,
     "metadata": {},
     "output_type": "execute_result"
    }
   ],
   "source": [
    "food_inspect_data_restaurant.isnull().sum()"
   ]
  },
  {
   "cell_type": "code",
   "execution_count": null,
   "metadata": {},
   "outputs": [],
   "source": [
    "# convert date type from str to datetime to easy apply date things\n",
    "food_inspect_data_restaurant['inspection_date'] =  pd.to_datetime(food_inspect_data['inspection_date'])"
   ]
  },
  {
   "cell_type": "code",
   "execution_count": null,
   "metadata": {},
   "outputs": [],
   "source": [
    "food_inspect_data_restaurant.info()"
   ]
  },
  {
   "cell_type": "code",
   "execution_count": null,
   "metadata": {},
   "outputs": [],
   "source": [
    "food_inspect_data_restaurant.info()"
   ]
  },
  {
   "cell_type": "code",
   "execution_count": null,
   "metadata": {},
   "outputs": [],
   "source": [
    "# select date starting from 2013\n",
    "food_inspect_data_restaurant = food_inspect_data_restaurant.loc[food_inspect_data_restaurant['inspection_date'] >= '2013']"
   ]
  },
  {
   "cell_type": "code",
   "execution_count": null,
   "metadata": {},
   "outputs": [],
   "source": [
    "food_inspect_data_restaurant.inspection_date.value_counts()"
   ]
  },
  {
   "cell_type": "code",
   "execution_count": null,
   "metadata": {},
   "outputs": [],
   "source": []
  },
  {
   "cell_type": "code",
   "execution_count": null,
   "metadata": {},
   "outputs": [],
   "source": [
    "# to idntifuy the result and we will take just bussniss\n",
    "food_inspect_data_restaurant.loc[food_inspect_data_restaurant.violations.isna(), 'results'].value_counts()"
   ]
  },
  {
   "cell_type": "code",
   "execution_count": null,
   "metadata": {},
   "outputs": [],
   "source": [
    "food_inspect_data_restaurant.risk.value_counts()"
   ]
  },
  {
   "cell_type": "code",
   "execution_count": null,
   "metadata": {},
   "outputs": [],
   "source": []
  },
  {
   "cell_type": "markdown",
   "metadata": {},
   "source": [
    "### Handeling Missing Value:"
   ]
  },
  {
   "cell_type": "code",
   "execution_count": 384,
   "metadata": {},
   "outputs": [],
   "source": []
  },
  {
   "cell_type": "code",
   "execution_count": 386,
   "metadata": {},
   "outputs": [],
   "source": [
    "# df = df[df.latuidad.notna()]"
   ]
  },
  {
   "cell_type": "code",
   "execution_count": null,
   "metadata": {},
   "outputs": [],
   "source": [
    "# Drop duplicates\n",
    "# food_inspect_data_restaurant.drop_duplicates(\"inspection_id\", inplace=True)\n"
   ]
  },
  {
   "cell_type": "code",
   "execution_count": 31,
   "metadata": {},
   "outputs": [],
   "source": [
    "## Drop \"0\" licenses\n",
    "food_inspect_data_restaurant = food_inspect_data_restaurant[food_inspect_data_restaurant.license != 0]"
   ]
  },
  {
   "cell_type": "code",
   "execution_count": 32,
   "metadata": {},
   "outputs": [],
   "source": [
    "# Only consider successful inspections\n",
    "food_inspect_data_restaurant = food_inspect_data_restaurant[~food_inspect_data_restaurant.results.isin([\"Out of Business\", \"Business Not Located\", \"No Entry\"])]"
   ]
  },
  {
   "cell_type": "code",
   "execution_count": 33,
   "metadata": {},
   "outputs": [
    {
     "data": {
      "text/plain": [
       "Pass                  32402\n",
       "Fail                  11145\n",
       "Pass w/ Conditions    10457\n",
       "Not Ready                28\n",
       "Name: results, dtype: int64"
      ]
     },
     "execution_count": 33,
     "metadata": {},
     "output_type": "execute_result"
    }
   ],
   "source": [
    "food_inspect_data_restaurant.results.value_counts()"
   ]
  },
  {
   "cell_type": "code",
   "execution_count": 41,
   "metadata": {},
   "outputs": [
    {
     "data": {
      "text/plain": [
       "zip                              7\n",
       "latitude                        59\n",
       "longitude                       59\n",
       "location                        59\n",
       "historical_wards_2003_2015    1577\n",
       "zip_codes                       59\n",
       "community_areas               1577\n",
       "census_tracts                   73\n",
       "wards                         1577\n",
       "dtype: int64"
      ]
     },
     "execution_count": 41,
     "metadata": {},
     "output_type": "execute_result"
    }
   ],
   "source": [
    "null_columns=food_inspect_data_restaurant.columns[food_inspect_data_restaurant.isnull().any()]\n",
    "food_inspect_data_restaurant[null_columns].isnull().sum()"
   ]
  },
  {
   "cell_type": "code",
   "execution_count": 36,
   "metadata": {},
   "outputs": [],
   "source": [
    "# filling the vailatuins \n",
    "food_inspect_data_restaurant.violations.fillna(\"No Violations\", inplace = True)"
   ]
  },
  {
   "cell_type": "code",
   "execution_count": null,
   "metadata": {},
   "outputs": [],
   "source": [
    "#Drop rows with missing data\n",
    "# food_inspect_data_restaurant.dropna(subset=[\"inspection_date\", \"license\", \"latitude\", \"longitude\"], inplace=True)"
   ]
  },
  {
   "cell_type": "code",
   "execution_count": null,
   "metadata": {},
   "outputs": [],
   "source": [
    "df = food_inspect_data_restaurant[food_inspect_data_restaurant.latitude.notna()]"
   ]
  },
  {
   "cell_type": "code",
   "execution_count": null,
   "metadata": {},
   "outputs": [],
   "source": [
    "print(df[df[\"zip\"].isnull()][null_columns])"
   ]
  },
  {
   "cell_type": "code",
   "execution_count": null,
   "metadata": {},
   "outputs": [],
   "source": [
    "df[df.isnull().any(axis=1)][null_columns].head()"
   ]
  },
  {
   "cell_type": "code",
   "execution_count": null,
   "metadata": {},
   "outputs": [],
   "source": [
    "# df = df.dropna(axis=0, subset=['zip'])"
   ]
  },
  {
   "cell_type": "code",
   "execution_count": 387,
   "metadata": {},
   "outputs": [],
   "source": []
  },
  {
   "cell_type": "code",
   "execution_count": 37,
   "metadata": {
    "scrolled": true
   },
   "outputs": [
    {
     "data": {
      "text/plain": [
       "0"
      ]
     },
     "execution_count": 37,
     "metadata": {},
     "output_type": "execute_result"
    }
   ],
   "source": [
    "food_inspect_data_restaurant.violations.isnull().sum()"
   ]
  },
  {
   "cell_type": "code",
   "execution_count": 389,
   "metadata": {},
   "outputs": [],
   "source": []
  },
  {
   "cell_type": "code",
   "execution_count": 390,
   "metadata": {
    "scrolled": true
   },
   "outputs": [
    {
     "data": {
      "text/plain": [
       "inspection_id                    0\n",
       "dba_name                         0\n",
       "license_                         0\n",
       "risk                             0\n",
       "address                          0\n",
       "zip                             10\n",
       "inspection_date                  0\n",
       "inspection_type                  0\n",
       "results                          0\n",
       "violations                       0\n",
       "latitude                         0\n",
       "longitude                        0\n",
       "location                         0\n",
       "historical_wards_2003_2015    1169\n",
       "zip_codes                        0\n",
       "community_areas               1169\n",
       "census_tracts                   11\n",
       "wards                         1169\n",
       "dtype: int64"
      ]
     },
     "execution_count": 390,
     "metadata": {},
     "output_type": "execute_result"
    }
   ],
   "source": [
    "df.isnull().sum()"
   ]
  },
  {
   "cell_type": "code",
   "execution_count": 391,
   "metadata": {},
   "outputs": [],
   "source": []
  },
  {
   "cell_type": "code",
   "execution_count": 392,
   "metadata": {},
   "outputs": [
    {
     "name": "stdout",
     "output_type": "stream",
     "text": [
      "<class 'pandas.core.frame.DataFrame'>\n",
      "Index: 50837 entries, 3 to 130654\n",
      "Data columns (total 18 columns):\n",
      "inspection_id                 50837 non-null int64\n",
      "dba_name                      50837 non-null object\n",
      "license_                      50837 non-null float64\n",
      "risk                          50837 non-null object\n",
      "address                       50837 non-null object\n",
      "zip                           50827 non-null float64\n",
      "inspection_date               50837 non-null datetime64[ns]\n",
      "inspection_type               50837 non-null object\n",
      "results                       50837 non-null object\n",
      "violations                    50837 non-null object\n",
      "latitude                      50837 non-null float64\n",
      "longitude                     50837 non-null float64\n",
      "location                      50837 non-null object\n",
      "historical_wards_2003_2015    49669 non-null float64\n",
      "zip_codes                     50837 non-null float64\n",
      "community_areas               49669 non-null float64\n",
      "census_tracts                 50826 non-null float64\n",
      "wards                         49669 non-null float64\n",
      "dtypes: datetime64[ns](1), float64(9), int64(1), object(7)\n",
      "memory usage: 7.4+ MB\n"
     ]
    }
   ],
   "source": [
    "df.info()"
   ]
  },
  {
   "cell_type": "code",
   "execution_count": 333,
   "metadata": {
    "scrolled": true
   },
   "outputs": [
    {
     "data": {
      "text/plain": [
       "3     55.0\n",
       "5     57.0\n",
       "12    33.0\n",
       "16    31.0\n",
       "18    55.0\n",
       "Name: community_areas, dtype: float64"
      ]
     },
     "execution_count": 333,
     "metadata": {},
     "output_type": "execute_result"
    }
   ],
   "source": [
    "df.community_areas.head()"
   ]
  },
  {
   "cell_type": "code",
   "execution_count": 334,
   "metadata": {
    "scrolled": false
   },
   "outputs": [
    {
     "data": {
      "text/plain": [
       "3      3.0\n",
       "5     40.0\n",
       "12    26.0\n",
       "16    39.0\n",
       "18     3.0\n",
       "Name: wards, dtype: float64"
      ]
     },
     "execution_count": 334,
     "metadata": {},
     "output_type": "execute_result"
    }
   ],
   "source": [
    "df.wards.head()"
   ]
  },
  {
   "cell_type": "code",
   "execution_count": null,
   "metadata": {},
   "outputs": [],
   "source": [
    "df.zip.dropna(inplace = True)"
   ]
  },
  {
   "cell_type": "code",
   "execution_count": null,
   "metadata": {},
   "outputs": [],
   "source": []
  },
  {
   "cell_type": "markdown",
   "metadata": {},
   "source": [
    "## Duplicated value"
   ]
  },
  {
   "cell_type": "code",
   "execution_count": 39,
   "metadata": {},
   "outputs": [
    {
     "data": {
      "text/plain": [
       "0"
      ]
     },
     "execution_count": 39,
     "metadata": {},
     "output_type": "execute_result"
    }
   ],
   "source": [
    "sum(food_inspect_data_restaurant.duplicated())"
   ]
  },
  {
   "cell_type": "code",
   "execution_count": 423,
   "metadata": {},
   "outputs": [],
   "source": [
    "# food_inspect_data_restaurant.drop_duplicates(\"inspection_id\", inplace=True)"
   ]
  },
  {
   "cell_type": "code",
   "execution_count": 425,
   "metadata": {},
   "outputs": [],
   "source": [
    "# food_inspect_data_restaurant.drop_duplicates(inplace=True)"
   ]
  },
  {
   "cell_type": "code",
   "execution_count": 40,
   "metadata": {
    "scrolled": true
   },
   "outputs": [
    {
     "name": "stdout",
     "output_type": "stream",
     "text": [
      "<class 'pandas.core.frame.DataFrame'>\n",
      "Int64Index: 54032 entries, 3 to 186347\n",
      "Data columns (total 17 columns):\n",
      "inspection_id                 54032 non-null int64\n",
      "dba_name                      54032 non-null object\n",
      "license                       54032 non-null float64\n",
      "risk                          54032 non-null object\n",
      "address                       54032 non-null object\n",
      "zip                           54025 non-null float64\n",
      "inspection_date               54032 non-null object\n",
      "results                       54032 non-null object\n",
      "violations                    54032 non-null object\n",
      "latitude                      53973 non-null float64\n",
      "longitude                     53973 non-null float64\n",
      "location                      53973 non-null object\n",
      "historical_wards_2003_2015    52455 non-null float64\n",
      "zip_codes                     53973 non-null float64\n",
      "community_areas               52455 non-null float64\n",
      "census_tracts                 53959 non-null float64\n",
      "wards                         52455 non-null float64\n",
      "dtypes: float64(9), int64(1), object(7)\n",
      "memory usage: 7.4+ MB\n"
     ]
    }
   ],
   "source": [
    "food_inspect_data_restaurant.info()"
   ]
  },
  {
   "cell_type": "markdown",
   "metadata": {},
   "source": [
    "## Save the data set "
   ]
  },
  {
   "cell_type": "code",
   "execution_count": null,
   "metadata": {},
   "outputs": [],
   "source": [
    "food_inspect_data_restaurant.to_csv('Food Inspections for Restaurant.csv')"
   ]
  }
 ],
 "metadata": {
  "kernelspec": {
   "display_name": "Python 3",
   "language": "python",
   "name": "python3"
  },
  "language_info": {
   "codemirror_mode": {
    "name": "ipython",
    "version": 3
   },
   "file_extension": ".py",
   "mimetype": "text/x-python",
   "name": "python",
   "nbconvert_exporter": "python",
   "pygments_lexer": "ipython3",
   "version": "3.6.8"
  }
 },
 "nbformat": 4,
 "nbformat_minor": 2
}
